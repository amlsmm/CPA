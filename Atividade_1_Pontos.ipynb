{
  "cells": [
    {
      "cell_type": "markdown",
      "metadata": {
        "id": "view-in-github",
        "colab_type": "text"
      },
      "source": [
        "<a href=\"https://colab.research.google.com/github/amlsmm/CPA/blob/main/Atividade_1_Pontos.ipynb\" target=\"_parent\"><img src=\"https://colab.research.google.com/assets/colab-badge.svg\" alt=\"Open In Colab\"/></a>"
      ]
    },
    {
      "cell_type": "code",
      "source": [],
      "metadata": {
        "id": "77I0-VY2mN8Y"
      },
      "execution_count": null,
      "outputs": []
    },
    {
      "cell_type": "markdown",
      "metadata": {
        "id": "XAdlKnDBj5uB"
      },
      "source": [
        "# EFC1 GCC253 - Complexidade e Projeto de Algoritmos - 5 pontos.\n",
        "\n",
        "\n",
        "> **Prof.: Douglas H. S. Abreu**\n",
        "\n",
        "\n",
        "**Aluno**: Antonio Mauricio L. S. M. Marques\n",
        "\n",
        "**Matricula**: 202020088\n",
        "\n",
        "**Turma**: 10A\n",
        "\n",
        "Link do repositório GitHub: \n",
        "\n",
        "● O trabalho deve ser feito em grupos de no máximo 4 componentes (Apenas um deve enviar a atividade no Campus Virtual)\n",
        "\n",
        "● Trabalhos entregues após a data limite não serão aceitos\n",
        "\n",
        "● Data limite de entrega: 20 de Novembro de 2022 : 23h55m\n",
        "\n",
        "● Enviar o trabalho para o campus virtual, do seguinte modo: link do repositório GitHub com acesso ao Notebook.\n",
        "\n",
        "● O trabalho deve ser desenvolvido no modelo Notebook utilizando preferencialmente a linguagem Python"
      ]
    },
    {
      "cell_type": "markdown",
      "metadata": {
        "id": "J3d6JlRUxREN"
      },
      "source": [
        "# Importações e Variáveis globais"
      ]
    },
    {
      "cell_type": "code",
      "execution_count": 8,
      "metadata": {
        "id": "Ur1DVGQAxac4"
      },
      "outputs": [],
      "source": []
    },
    {
      "cell_type": "markdown",
      "metadata": {
        "id": "kPNpzNYwkKAO"
      },
      "source": [
        "# Funções de Ordenação\n",
        "\n",
        "> Utilize este espaço para definir as funções de ordenação.\n",
        "\n"
      ]
    },
    {
      "cell_type": "markdown",
      "metadata": {
        "id": "nEw1UEsmoKMg"
      },
      "source": [
        "##  Insertion Sort\n"
      ]
    },
    {
      "cell_type": "code",
      "execution_count": 16,
      "metadata": {
        "id": "kbOrhdB-j_px"
      },
      "outputs": [],
      "source": [
        "def insertionSort(arr):           \n",
        "  for j in range(1,len(arr)):     \n",
        "    key = arr[j]                  \n",
        "    i = j-1                       \n",
        "    while(i>=0 and arr[i] > key): \n",
        "      arr[i+1] = arr[i]           \n",
        "      i-=1                  \n",
        "    arr[i+1] = key                \n",
        "  return arr"
      ]
    },
    {
      "cell_type": "markdown",
      "metadata": {
        "id": "9a-wJwU-wtmQ"
      },
      "source": [
        "##  Merge Sort\n"
      ]
    },
    {
      "cell_type": "code",
      "execution_count": 17,
      "metadata": {
        "id": "8cgIJ_4EwbPN"
      },
      "outputs": [],
      "source": [
        "def mergeSort(arr):\n",
        "  if len(arr)>1:\n",
        "    meio = len(arr)//2\n",
        "    esquerda = arr[:meio]\n",
        "    direita = arr[meio:]\n",
        "\n",
        "    mergeSort(esquerda)\n",
        "    mergeSort(direita)\n",
        "\n",
        "    i = j = k = 0\n",
        "    while i<len(esquerda) and j<len(direita):\n",
        "      if esquerda[i] <= direita[j]:\n",
        "        arr[k] = esquerda[i]\n",
        "        i+=1\n",
        "      else:\n",
        "        arr[k] = direita[j]\n",
        "        j+=1\n",
        "      k+=1\n",
        "\n",
        "      while i<len(esquerda):\n",
        "        arr[k] = esquerda[i]\n",
        "        i+=1\n",
        "        k+=1\n",
        "      \n",
        "      while j<len(direita):\n",
        "        arr[k] = direita[j]\n",
        "        j+=1\n",
        "        k+=1"
      ]
    },
    {
      "cell_type": "markdown",
      "metadata": {
        "id": "8dWpeYUvw-wU"
      },
      "source": [
        "##  Selection Sort\n"
      ]
    },
    {
      "cell_type": "code",
      "execution_count": 22,
      "metadata": {
        "id": "vNgUDShawygu"
      },
      "outputs": [],
      "source": [
        "def selectionSort(arr):\n",
        "  for i in range(len(arr)):               \n",
        "    min = i\n",
        "    j = i+1\n",
        "    while(j<len(arr)):\n",
        "      if(arr[j] < arr[min]):\n",
        "          min = j\n",
        "      j+=1            \n",
        "    aux = arr[i]      \n",
        "    arr[i] = arr[min] \n",
        "    arr[min] = aux\n",
        "  return arr"
      ]
    },
    {
      "cell_type": "markdown",
      "metadata": {
        "id": "zNI1kX0yyDrs"
      },
      "source": [
        "##  Bubble Sort\n"
      ]
    },
    {
      "cell_type": "code",
      "execution_count": 15,
      "metadata": {
        "id": "6X_zk1yWxMQS"
      },
      "outputs": [],
      "source": [
        "def bubbleSort(arr):\n",
        "  for i in range(len(arr)):\n",
        "    for j in range(0, len(arr)-1):\n",
        "      if arr[j] > arr[j+1]:\n",
        "        arr[j], arr[j+1] = arr[j+1], arr[j]\n"
      ]
    },
    {
      "cell_type": "markdown",
      "metadata": {
        "id": "vk4vOTkKyLB-"
      },
      "source": [
        "## Heap Sort"
      ]
    },
    {
      "cell_type": "code",
      "execution_count": 14,
      "metadata": {
        "id": "39a7xXzLyH9g"
      },
      "outputs": [],
      "source": [
        "def heapify(arr, n, i):\n",
        "  maior = i;\n",
        "  esquerda = 2*i + 1\n",
        "  direita = 2*i + 2\n",
        "\n",
        "  if esquerda<n and arr[maior]<arr[esquerda]:\n",
        "    maior = esquerda\n",
        "  \n",
        "  if direita<n and arr[maior] < arr[direita]:\n",
        "    maior = direita\n",
        "\n",
        "  if maior!=i:\n",
        "    arr[i], arr[maior] = arr[maior], arr[i]\n",
        "    heapify(arr, n, maior)\n",
        "\n",
        "\n",
        "def heapSort(arr):\n",
        "  for i in range( (len(arr)//2)-1, -1, -1):\n",
        "    heapify(arr, len(arr), i)\n",
        "\n",
        "  for i in range(len(arr)-1, 0, -1):\n",
        "    arr[i], arr[0] = arr[0], arr[i]\n",
        "    heapify(arr, i, 0)\n"
      ]
    },
    {
      "cell_type": "markdown",
      "metadata": {
        "id": "fFiGho5CyU3t"
      },
      "source": [
        "## Quick Sort com pivo sendo o ultimo elemento do arranjo\n",
        "\n",
        "> pivo = *A[A-comprimento]*"
      ]
    },
    {
      "cell_type": "code",
      "execution_count": 13,
      "metadata": {
        "id": "1Ie_N5CRyKY7"
      },
      "outputs": [],
      "source": [
        "def partition(arr,menor, maior):\n",
        "  #elemento mais a direita de arr\n",
        "  pivot = arr[maior]\n",
        "  i = menor - 1\n",
        "\n",
        "  for j in range(menor, maior):\n",
        "    if arr[j] <= pivot:\n",
        "      i+=1\n",
        "      arr[i], arr[j] = arr[j], arr[i]\n",
        "  \n",
        "  arr[i+1], arr[maior] = arr[maior], arr[i+1]\n",
        "\n",
        "  return i+1\n",
        "\n",
        "#deve ser passado como paramentros inicias a array, o indice 0, \n",
        "# e o indice do ultimo elemento\n",
        "def quickSort(arr, menor, maior):\n",
        "  if menor<maior:\n",
        "    pivot = partition(arr, menor, maior)\n",
        "    quickSort(arr, menor, pivot-1)\n",
        "    quickSort(arr, pivot + 1, maior)\n"
      ]
    },
    {
      "cell_type": "markdown",
      "metadata": {
        "id": "VomdAnCrzEv1"
      },
      "source": [
        "# Questões"
      ]
    },
    {
      "cell_type": "markdown",
      "metadata": {
        "id": "3QKV979kzItD"
      },
      "source": [
        "\n",
        "\n",
        "1.   Escolha pelo menos 3 arranjos. Ex: ***A[5,...,1000,...,100]*** e mostre o funcionamento dos Algoritmos realizando a ordenação.\n",
        "\n",
        "\n",
        "\n"
      ]
    },
    {
      "cell_type": "code",
      "execution_count": 25,
      "metadata": {
        "id": "nBfs279_1Vko"
      },
      "outputs": [],
      "source": [
        "arr1 = [4,123,4,123,512,65,3,342,-1,203]\n",
        "arr2 = [5,54,43,56,12,44]\n",
        "arr3 = [34,45,123,23,0,43,-4,4]\n",
        "arr4 = [123,23,45,65,231,2232,89,-90,-23]\n",
        "arr5 = [14,-90,12,-8,434,43]\n",
        "arr6 = [78,-89,239,23,-18,6,7,3,34]\n",
        "\n"
      ]
    },
    {
      "cell_type": "code",
      "source": [
        "insertionSort(arr1)\n",
        "arr1"
      ],
      "metadata": {
        "colab": {
          "base_uri": "https://localhost:8080/"
        },
        "id": "-m0wsbfYIWCa",
        "outputId": "35411cd1-a250-4e65-aa89-0cca8a4680d1"
      },
      "execution_count": 20,
      "outputs": [
        {
          "output_type": "execute_result",
          "data": {
            "text/plain": [
              "[-1, 3, 4, 4, 65, 123, 123, 203, 342, 512]"
            ]
          },
          "metadata": {},
          "execution_count": 20
        }
      ]
    },
    {
      "cell_type": "code",
      "source": [
        "selectionSort(arr2)\n",
        "arr2"
      ],
      "metadata": {
        "colab": {
          "base_uri": "https://localhost:8080/"
        },
        "id": "NwOAb5AHIcBC",
        "outputId": "4fda3766-4209-441e-a160-ba46e29f0561"
      },
      "execution_count": 26,
      "outputs": [
        {
          "output_type": "execute_result",
          "data": {
            "text/plain": [
              "[5, 12, 43, 44, 54, 56]"
            ]
          },
          "metadata": {},
          "execution_count": 26
        }
      ]
    },
    {
      "cell_type": "code",
      "source": [
        "bubbleSort(arr3)\n",
        "arr3"
      ],
      "metadata": {
        "colab": {
          "base_uri": "https://localhost:8080/"
        },
        "id": "iTw3PZ5xIgIs",
        "outputId": "11e84723-5e10-4d87-8a5f-fd1fee1b79d8"
      },
      "execution_count": 30,
      "outputs": [
        {
          "output_type": "execute_result",
          "data": {
            "text/plain": [
              "[-4, 0, 4, 23, 34, 43, 45, 123]"
            ]
          },
          "metadata": {},
          "execution_count": 30
        }
      ]
    },
    {
      "cell_type": "code",
      "source": [
        "mergeSort(arr4)\n",
        "arr4"
      ],
      "metadata": {
        "colab": {
          "base_uri": "https://localhost:8080/"
        },
        "id": "BJUvEFnvI_3Q",
        "outputId": "cef33ff7-d8e1-4e56-fe86-c47ba2baca52"
      },
      "execution_count": 29,
      "outputs": [
        {
          "output_type": "execute_result",
          "data": {
            "text/plain": [
              "[-90, 23, 123, 45, 65, 231, 2232, 89, -23]"
            ]
          },
          "metadata": {},
          "execution_count": 29
        }
      ]
    },
    {
      "cell_type": "code",
      "source": [
        "heapSort(arr5)\n",
        "arr5"
      ],
      "metadata": {
        "colab": {
          "base_uri": "https://localhost:8080/"
        },
        "id": "-PJ4LnsXJCdR",
        "outputId": "375d632a-04dd-4ff1-afc3-d045626b0416"
      },
      "execution_count": 28,
      "outputs": [
        {
          "output_type": "execute_result",
          "data": {
            "text/plain": [
              "[-90, -8, 12, 14, 43, 434]"
            ]
          },
          "metadata": {},
          "execution_count": 28
        }
      ]
    },
    {
      "cell_type": "code",
      "source": [
        "quickSort(arr6, 0, len(arr6)-1)\n",
        "arr6"
      ],
      "metadata": {
        "colab": {
          "base_uri": "https://localhost:8080/"
        },
        "id": "1Xp6uKwfJGBw",
        "outputId": "43d0e85f-9fe7-4dd8-a2e7-6dd5b19cb803"
      },
      "execution_count": 31,
      "outputs": [
        {
          "output_type": "execute_result",
          "data": {
            "text/plain": [
              "[-89, -18, 3, 6, 7, 23, 34, 78, 239]"
            ]
          },
          "metadata": {},
          "execution_count": 31
        }
      ]
    }
  ],
  "metadata": {
    "colab": {
      "provenance": [],
      "include_colab_link": true
    },
    "kernelspec": {
      "display_name": "Python 3",
      "name": "python3"
    },
    "language_info": {
      "name": "python"
    }
  },
  "nbformat": 4,
  "nbformat_minor": 0
}